{
 "cells": [
  {
   "cell_type": "code",
   "execution_count": 8,
   "metadata": {},
   "outputs": [
    {
     "name": "stdout",
     "output_type": "stream",
     "text": [
      "1/1 [==============================] - 0s 367ms/step\n"
     ]
    }
   ],
   "source": [
    "# imi tot dadea eroare si imi murea procesul\n",
    "import os\n",
    "os.environ[\"KMP_DUPLICATE_LIB_OK\"]=\"TRUE\"\n",
    "\n",
    "from tensorflow.keras.preprocessing.image import img_to_array, load_img\n",
    "import numpy as np\n",
    "from keras.models import model_from_json\n",
    "from skimage.color import rgb2lab,lab2rgb\n",
    "from PIL import Image\n",
    "\n",
    "\n",
    "with open(\"model-alpha.json\", \"r\") as json_file:\n",
    "    model_json = json_file.read()\n",
    "\n",
    "model = model_from_json(model_json)\n",
    "\n",
    "model.load_weights(\"model-alpha.h5\")\n",
    "\n",
    "\n",
    "image_path=\"image0020-color.jpg\"\n",
    "image = load_img(image_path)\n",
    "image = img_to_array(image)\n",
    "image = np.array(image, dtype=float)\n",
    "X = rgb2lab(1.0/255*image)[:,:,0]\n",
    "X = X.reshape(1, image.shape[0], image.shape[1], 1)\n",
    "\n",
    "\n",
    "output = model.predict(X)\n",
    "output *= 128\n",
    "\n",
    "\n",
    "cur = np.zeros((400, 400, 3))\n",
    "cur[:,:,0] = X[0][:,:,0] # L\n",
    "cur[:,:,1:] = output[0] # a si b\n",
    "cur_rgb = lab2rgb(cur)\n",
    "\n",
    "cur_rgb_scaled = (cur_rgb * 255).astype('uint8')\n",
    "\n",
    "Image.fromarray(cur_rgb_scaled).save(\"img_result4.png\")\n",
    "\n"
   ]
  },
  {
   "cell_type": "code",
   "execution_count": 5,
   "metadata": {},
   "outputs": [
    {
     "name": "stdout",
     "output_type": "stream",
     "text": [
      "1/1 [==============================] - 0s 200ms/step\n"
     ]
    }
   ],
   "source": [
    "# imi tot dadea eroare si imi murea procesul\n",
    "import os\n",
    "os.environ[\"KMP_DUPLICATE_LIB_OK\"]=\"TRUE\"\n",
    "\n",
    "from tensorflow.keras.preprocessing.image import img_to_array, load_img\n",
    "import numpy as np\n",
    "from keras.models import model_from_json\n",
    "from skimage.color import rgb2lab,lab2rgb\n",
    "from PIL import Image\n",
    "\n",
    "\n",
    "with open(\"model.json\", \"r\") as json_file:\n",
    "    model_json = json_file.read()\n",
    "\n",
    "model = model_from_json(model_json)\n",
    "\n",
    "model.load_weights(\"model.h5\")\n",
    "\n",
    "\n",
    "image_path=\"image_902.png\"\n",
    "image = load_img(image_path)\n",
    "image = img_to_array(image)\n",
    "image = np.array(image, dtype=float)\n",
    "X = rgb2lab(1.0/255*image)[:,:,0]\n",
    "X = X.reshape(1, image.shape[0], image.shape[1], 1)\n",
    "\n",
    "\n",
    "output = model.predict(X)\n",
    "output *= 128\n",
    "\n",
    "\n",
    "cur = np.zeros((256, 256, 3))\n",
    "cur[:,:,0] = X[0][:,:,0] # L\n",
    "cur[:,:,1:] = output[0] # a si b\n",
    "cur_rgb = lab2rgb(cur)\n",
    "\n",
    "cur_rgb_scaled = (cur_rgb * 255).astype('uint8')\n",
    "\n",
    "Image.fromarray(cur_rgb_scaled).save(\"img_result4.png\")\n",
    "\n"
   ]
  }
 ],
 "metadata": {
  "kernelspec": {
   "display_name": "Multimedia",
   "language": "python",
   "name": "python3"
  },
  "language_info": {
   "codemirror_mode": {
    "name": "ipython",
    "version": 3
   },
   "file_extension": ".py",
   "mimetype": "text/x-python",
   "name": "python",
   "nbconvert_exporter": "python",
   "pygments_lexer": "ipython3",
   "version": "3.10.9"
  }
 },
 "nbformat": 4,
 "nbformat_minor": 2
}
